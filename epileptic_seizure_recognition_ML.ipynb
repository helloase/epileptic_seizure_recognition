{
 "cells": [
  {
   "cell_type": "markdown",
   "metadata": {},
   "source": [
    "# Epileptic seizure recognition"
   ]
  },
  {
   "cell_type": "markdown",
   "metadata": {},
   "source": [
    "Let's start by importing the necessary libraries"
   ]
  },
  {
   "cell_type": "code",
   "execution_count": 3,
   "metadata": {
    "collapsed": true
   },
   "outputs": [],
   "source": [
    "import numpy as np\n",
    "import matplotlib.pyplot as plt\n",
    "import pandas as pd\n",
    "from sklearn.preprocessing import LabelEncoder\n",
    "from sklearn.preprocessing import StandardScaler\n",
    "from sklearn.model_selection import train_test_split, cross_val_score\n",
    "from sklearn.feature_selection import SelectKBest, RFECV\n",
    "from sklearn.decomposition import PCA\n",
    "from sklearn.discriminant_analysis import LinearDiscriminantAnalysis as LDA\n",
    "from sklearn.linear_model import LogisticRegression\n",
    "#from xgboost.sklearn import XGBClassifier\n",
    "from sklearn.metrics import confusion_matrix, accuracy_score, classification_report\n",
    "import seaborn as sn\n",
    "#import keras\n",
    "#from keras.models import Sequential\n",
    "#from keras.layers import Dense, BatchNormalization, Dropout\n",
    "#from keras import regularizers\n",
    "\n",
    "import warnings; warnings.simplefilter('ignore')\n",
    "%matplotlib inline"
   ]
  },
  {
   "cell_type": "markdown",
   "metadata": {},
   "source": [
    "## Dataset\n",
    "\n",
    "- The original dataset from the reference consists of 5 different folders, each with 100 files, with each file representing a single subject/person. Each file is a recording of brain activity for 23.6 seconds. \n",
    "\n",
    "- The corresponding time-series is sampled into 4097 data points. Each data point is the value of the EEG recording at a different point in time. So we have total 500 individuals with each has 4097 data points for 23.5 seconds.\n",
    "\n",
    "- We divided and shuffled every 4097 data points into 23 chunks, each chunk contains 178 data points for 1 second, and each data point is the value of the EEG recording at a different point in time. \n",
    "\n",
    "- So now we have 23 x 500 = 11500 pieces of information(row), each information contains 178 data points for 1 second(column), the last column represents the label y {1,2,3,4,5}. \n",
    "\n",
    "- The response variable is y in column 179, the Explanatory variables X1, X2, ..., X178 "
   ]
  },
  {
   "cell_type": "markdown",
   "metadata": {},
   "source": [
    "## The column y contains the category of the 178-dimensional input vector. \n",
    "\n",
    "### Specifically y in {1, 2, 3, 4, 5}: \n",
    "\n",
    "1. Recording of seizure activity\n",
    "\n",
    "2. They recorded the EEG from the area where the tumor was located\n",
    "\n",
    "3. Yes they identify where the region of the tumor was in the brain and recording the EEG activity from the healthy brain area\n",
    "\n",
    "4. eyes closed, means when they were recording the EEG signal the patient had their eyes closed \n",
    "\n",
    "5. eyes open, means when they were recording the EEG signal of the brain the patient had their eyes open"
   ]
  },
  {
   "cell_type": "markdown",
   "metadata": {},
   "source": [
    "- All subjects falling in classes 2, 3, 4, and 5 are subjects who did not have epileptic seizure. Only subjects in class 1 have epileptic seizure.\n",
    "\n",
    "- Our motivation for creating this version of the data was to simplify access to the data via the creation of a .csv version of it. \n",
    "\n",
    "- Although there are 5 classes most authors have done binary classification, namely class 1 (Epileptic seizure) against the rest.\n",
    "\n",
    "## Citation Request:\n",
    "\n",
    "Andrzejak RG, Lehnertz K, Rieke C, Mormann F, David P, Elger CE (2001) Indications of nonlinear deterministic and finite dimensional structures in time series of brain electrical activity: Dependence on recording region and brain state, Phys. Rev. E, 64, 061907"
   ]
  },
  {
   "cell_type": "markdown",
   "metadata": {},
   "source": [
    "## Importing the data\n",
    "\n",
    "Now, let's import the dataset and visualize the first 5 rows"
   ]
  },
  {
   "cell_type": "code",
   "execution_count": 4,
   "metadata": {},
   "outputs": [
    {
     "data": {
      "text/html": [
       "<div>\n",
       "<style>\n",
       "    .dataframe thead tr:only-child th {\n",
       "        text-align: right;\n",
       "    }\n",
       "\n",
       "    .dataframe thead th {\n",
       "        text-align: left;\n",
       "    }\n",
       "\n",
       "    .dataframe tbody tr th {\n",
       "        vertical-align: top;\n",
       "    }\n",
       "</style>\n",
       "<table border=\"1\" class=\"dataframe\">\n",
       "  <thead>\n",
       "    <tr style=\"text-align: right;\">\n",
       "      <th></th>\n",
       "      <th>Unnamed: 0</th>\n",
       "      <th>X1</th>\n",
       "      <th>X2</th>\n",
       "      <th>X3</th>\n",
       "      <th>X4</th>\n",
       "      <th>X5</th>\n",
       "      <th>X6</th>\n",
       "      <th>X7</th>\n",
       "      <th>X8</th>\n",
       "      <th>X9</th>\n",
       "      <th>...</th>\n",
       "      <th>X170</th>\n",
       "      <th>X171</th>\n",
       "      <th>X172</th>\n",
       "      <th>X173</th>\n",
       "      <th>X174</th>\n",
       "      <th>X175</th>\n",
       "      <th>X176</th>\n",
       "      <th>X177</th>\n",
       "      <th>X178</th>\n",
       "      <th>y</th>\n",
       "    </tr>\n",
       "  </thead>\n",
       "  <tbody>\n",
       "    <tr>\n",
       "      <th>0</th>\n",
       "      <td>X21.V1.791</td>\n",
       "      <td>135</td>\n",
       "      <td>190</td>\n",
       "      <td>229</td>\n",
       "      <td>223</td>\n",
       "      <td>192</td>\n",
       "      <td>125</td>\n",
       "      <td>55</td>\n",
       "      <td>-9</td>\n",
       "      <td>-33</td>\n",
       "      <td>...</td>\n",
       "      <td>-17</td>\n",
       "      <td>-15</td>\n",
       "      <td>-31</td>\n",
       "      <td>-77</td>\n",
       "      <td>-103</td>\n",
       "      <td>-127</td>\n",
       "      <td>-116</td>\n",
       "      <td>-83</td>\n",
       "      <td>-51</td>\n",
       "      <td>4</td>\n",
       "    </tr>\n",
       "    <tr>\n",
       "      <th>1</th>\n",
       "      <td>X15.V1.924</td>\n",
       "      <td>386</td>\n",
       "      <td>382</td>\n",
       "      <td>356</td>\n",
       "      <td>331</td>\n",
       "      <td>320</td>\n",
       "      <td>315</td>\n",
       "      <td>307</td>\n",
       "      <td>272</td>\n",
       "      <td>244</td>\n",
       "      <td>...</td>\n",
       "      <td>164</td>\n",
       "      <td>150</td>\n",
       "      <td>146</td>\n",
       "      <td>152</td>\n",
       "      <td>157</td>\n",
       "      <td>156</td>\n",
       "      <td>154</td>\n",
       "      <td>143</td>\n",
       "      <td>129</td>\n",
       "      <td>1</td>\n",
       "    </tr>\n",
       "    <tr>\n",
       "      <th>2</th>\n",
       "      <td>X8.V1.1</td>\n",
       "      <td>-32</td>\n",
       "      <td>-39</td>\n",
       "      <td>-47</td>\n",
       "      <td>-37</td>\n",
       "      <td>-32</td>\n",
       "      <td>-36</td>\n",
       "      <td>-57</td>\n",
       "      <td>-73</td>\n",
       "      <td>-85</td>\n",
       "      <td>...</td>\n",
       "      <td>57</td>\n",
       "      <td>64</td>\n",
       "      <td>48</td>\n",
       "      <td>19</td>\n",
       "      <td>-12</td>\n",
       "      <td>-30</td>\n",
       "      <td>-35</td>\n",
       "      <td>-35</td>\n",
       "      <td>-36</td>\n",
       "      <td>5</td>\n",
       "    </tr>\n",
       "    <tr>\n",
       "      <th>3</th>\n",
       "      <td>X16.V1.60</td>\n",
       "      <td>-105</td>\n",
       "      <td>-101</td>\n",
       "      <td>-96</td>\n",
       "      <td>-92</td>\n",
       "      <td>-89</td>\n",
       "      <td>-95</td>\n",
       "      <td>-102</td>\n",
       "      <td>-100</td>\n",
       "      <td>-87</td>\n",
       "      <td>...</td>\n",
       "      <td>-82</td>\n",
       "      <td>-81</td>\n",
       "      <td>-80</td>\n",
       "      <td>-77</td>\n",
       "      <td>-85</td>\n",
       "      <td>-77</td>\n",
       "      <td>-72</td>\n",
       "      <td>-69</td>\n",
       "      <td>-65</td>\n",
       "      <td>5</td>\n",
       "    </tr>\n",
       "    <tr>\n",
       "      <th>4</th>\n",
       "      <td>X20.V1.54</td>\n",
       "      <td>-9</td>\n",
       "      <td>-65</td>\n",
       "      <td>-98</td>\n",
       "      <td>-102</td>\n",
       "      <td>-78</td>\n",
       "      <td>-48</td>\n",
       "      <td>-16</td>\n",
       "      <td>0</td>\n",
       "      <td>-21</td>\n",
       "      <td>...</td>\n",
       "      <td>4</td>\n",
       "      <td>2</td>\n",
       "      <td>-12</td>\n",
       "      <td>-32</td>\n",
       "      <td>-41</td>\n",
       "      <td>-65</td>\n",
       "      <td>-83</td>\n",
       "      <td>-89</td>\n",
       "      <td>-73</td>\n",
       "      <td>5</td>\n",
       "    </tr>\n",
       "  </tbody>\n",
       "</table>\n",
       "<p>5 rows × 180 columns</p>\n",
       "</div>"
      ],
      "text/plain": [
       "   Unnamed: 0   X1   X2   X3   X4   X5   X6   X7   X8   X9 ...  X170  X171  \\\n",
       "0  X21.V1.791  135  190  229  223  192  125   55   -9  -33 ...   -17   -15   \n",
       "1  X15.V1.924  386  382  356  331  320  315  307  272  244 ...   164   150   \n",
       "2     X8.V1.1  -32  -39  -47  -37  -32  -36  -57  -73  -85 ...    57    64   \n",
       "3   X16.V1.60 -105 -101  -96  -92  -89  -95 -102 -100  -87 ...   -82   -81   \n",
       "4   X20.V1.54   -9  -65  -98 -102  -78  -48  -16    0  -21 ...     4     2   \n",
       "\n",
       "   X172  X173  X174  X175  X176  X177  X178  y  \n",
       "0   -31   -77  -103  -127  -116   -83   -51  4  \n",
       "1   146   152   157   156   154   143   129  1  \n",
       "2    48    19   -12   -30   -35   -35   -36  5  \n",
       "3   -80   -77   -85   -77   -72   -69   -65  5  \n",
       "4   -12   -32   -41   -65   -83   -89   -73  5  \n",
       "\n",
       "[5 rows x 180 columns]"
      ]
     },
     "execution_count": 4,
     "metadata": {},
     "output_type": "execute_result"
    }
   ],
   "source": [
    "dataset = pd.read_csv('epileptic_seizure_recognition.csv')\n",
    "dataset.head()"
   ]
  },
  {
   "cell_type": "code",
   "execution_count": 5,
   "metadata": {},
   "outputs": [
    {
     "name": "stdout",
     "output_type": "stream",
     "text": [
      "The number of trials for the non-seizure class is: 9200\n",
      "The number of trials for the seizure class is: 2300\n"
     ]
    },
    {
     "data": {
      "image/png": "[encoded data removed]",
      "text/plain": [
       "<matplotlib.figure.Figure at 0x25938de9278>"
      ]
     },
     "metadata": {},
     "output_type": "display_data"
    }
   ],
   "source": [
    "cols = dataset.columns\n",
    "tgt = dataset.y\n",
    "tgt[tgt>1]=0\n",
    "ax = sn.countplot(tgt,label=\"Count\")\n",
    "non_seizure, seizure = tgt.value_counts()\n",
    "print('The number of trials for the non-seizure class is:', non_seizure)\n",
    "print('The number of trials for the seizure class is:', seizure)"
   ]
  },
  {
   "cell_type": "markdown",
   "metadata": {},
   "source": [
    "As we can see, there are 178 EEG features and 5 possible classes. The main goal of the dataset it's to be able to correctly identify epileptic seizures from EEG data, so a binary classification between classes of label 1 and the rest (2,3,4,5). In order to train our model, let's define our independent variables (X) and our dependent variable (y)."
   ]
  },
  {
   "cell_type": "code",
   "execution_count": 6,
   "metadata": {},
   "outputs": [
    {
     "data": {
      "text/plain": [
       "(11500, 178)"
      ]
     },
     "execution_count": 6,
     "metadata": {},
     "output_type": "execute_result"
    }
   ],
   "source": [
    "X = dataset.iloc[:,1:179].values\n",
    "X.shape"
   ]
  },
  {
   "cell_type": "code",
   "execution_count": 11,
   "metadata": {},
   "outputs": [
    {
     "data": {
      "text/plain": [
       "Text(0.5,0,'Samples')"
      ]
     },
     "execution_count": 11,
     "metadata": {},
     "output_type": "execute_result"
    },
    {
     "data": {
      "image/png": "[encoded data removed]",
      "text/plain": [
       "<matplotlib.figure.Figure at 0x2593acfb748>"
      ]
     },
     "metadata": {},
     "output_type": "display_data"
    }
   ],
   "source": [
    "plt.subplot(511)\n",
    "plt.plot(X[1,:])\n",
    "plt.title('Classes')\n",
    "plt.ylabel('uV')\n",
    "plt.subplot(512)\n",
    "plt.plot(X[7,:])\n",
    "plt.subplot(513)\n",
    "plt.plot(X[12,:])\n",
    "plt.subplot(514)\n",
    "plt.plot(X[0,:])\n",
    "plt.subplot(515)\n",
    "plt.plot(X[2,:])\n",
    "plt.xlabel('Samples')"
   ]
  },
  {
   "cell_type": "code",
   "execution_count": 6,
   "metadata": {},
   "outputs": [
    {
     "data": {
      "text/plain": [
       "array([0, 1, 0, ..., 0, 0, 0])"
      ]
     },
     "execution_count": 6,
     "metadata": {},
     "output_type": "execute_result"
    }
   ],
   "source": [
    "y = dataset.iloc[:,179].values\n",
    "y"
   ]
  },
  {
   "cell_type": "markdown",
   "metadata": {},
   "source": [
    "To make this a binary problem, let's turn the non-seizure classes 0 while maintaining the seizure as 1."
   ]
  },
  {
   "cell_type": "code",
   "execution_count": 7,
   "metadata": {},
   "outputs": [
    {
     "data": {
      "text/plain": [
       "array([0, 1, 0, ..., 0, 0, 0])"
      ]
     },
     "execution_count": 7,
     "metadata": {},
     "output_type": "execute_result"
    }
   ],
   "source": [
    "y[y>1]=0\n",
    "y"
   ]
  },
  {
   "cell_type": "markdown",
   "metadata": {},
   "source": [
    "Let's split our data between training and test. We later will employ 10-fold cross validation to ensure that our model correctly generalize to unseen data."
   ]
  },
  {
   "cell_type": "markdown",
   "metadata": {},
   "source": [
    "## Train and test splits"
   ]
  },
  {
   "cell_type": "code",
   "execution_count": 8,
   "metadata": {
    "collapsed": true
   },
   "outputs": [],
   "source": [
    "X_train, X_test, y_train, y_test = train_test_split(X, y, test_size = 0.2)"
   ]
  },
  {
   "cell_type": "markdown",
   "metadata": {},
   "source": [
    "Applying scaling to our independent variables to make easier for our model to converge."
   ]
  },
  {
   "cell_type": "markdown",
   "metadata": {},
   "source": [
    "## Scaling the data"
   ]
  },
  {
   "cell_type": "code",
   "execution_count": 9,
   "metadata": {
    "collapsed": true
   },
   "outputs": [],
   "source": [
    "sc = StandardScaler()\n",
    "X_train = sc.fit_transform(X_train)\n",
    "X_test = sc.transform(X_test)"
   ]
  },
  {
   "cell_type": "code",
   "execution_count": 10,
   "metadata": {},
   "outputs": [
    {
     "data": {
      "text/plain": [
       "array([-0.19147932, -0.21477354, -0.21249808, -0.25082442, -0.20864317,\n",
       "       -0.19188163, -0.14740626, -0.1173909 , -0.11400036, -0.14269786,\n",
       "       -0.17140752, -0.18274939, -0.15747181, -0.08557341, -0.03611843,\n",
       "       -0.02916717, -0.0306056 , -0.01310075,  0.02252931,  0.03373113,\n",
       "        0.04517098,  0.00946367, -0.03594922, -0.13818669, -0.19130803,\n",
       "       -0.22796225, -0.23434042, -0.22147656, -0.23909917, -0.26226699])"
      ]
     },
     "execution_count": 10,
     "metadata": {},
     "output_type": "execute_result"
    }
   ],
   "source": [
    "X_train[0,0:30]"
   ]
  },
  {
   "cell_type": "code",
   "execution_count": 11,
   "metadata": {},
   "outputs": [
    {
     "data": {
      "text/plain": [
       "array([0, 1, 0, 0, 1, 0, 0, 0, 0, 0, 0, 0, 0, 0, 1, 0, 0, 0, 0, 1, 0, 0,\n",
       "       0, 0, 0, 0, 0, 0, 0, 0])"
      ]
     },
     "execution_count": 11,
     "metadata": {},
     "output_type": "execute_result"
    }
   ],
   "source": [
    "y_train[0:30]"
   ]
  },
  {
   "cell_type": "markdown",
   "metadata": {},
   "source": [
    "Let's investigate how accurate the simplest model can achieve by applying a Logistic Regression to our data."
   ]
  },
  {
   "cell_type": "markdown",
   "metadata": {},
   "source": [
    "## Logistic Regression"
   ]
  },
  {
   "cell_type": "code",
   "execution_count": null,
   "metadata": {
    "collapsed": true
   },
   "outputs": [],
   "source": [
    "classifier = LogisticRegression()\n",
    "classifier.fit(X_train, y_train)"
   ]
  },
  {
   "cell_type": "code",
   "execution_count": null,
   "metadata": {
    "collapsed": true
   },
   "outputs": [],
   "source": [
    "y_pred = classifier.predict(X_test)"
   ]
  },
  {
   "cell_type": "code",
   "execution_count": null,
   "metadata": {
    "collapsed": true
   },
   "outputs": [],
   "source": [
    "accuracies = cross_val_score(estimator = classifier,\n",
    "                             X = X_train,\n",
    "                             y = y_train,\n",
    "                             cv = 10,\n",
    "                             n_jobs = -1)\n",
    "accuracies.mean()"
   ]
  },
  {
   "cell_type": "code",
   "execution_count": null,
   "metadata": {
    "collapsed": true
   },
   "outputs": [],
   "source": [
    "cm = confusion_matrix(y_test, y_pred)\n",
    "print(classification_report(y_test, y_pred, target_names=['Non-seizure', 'Seizure']))\n",
    "\n",
    "df_cm = pd.DataFrame(cm, range(2), range(2))\n",
    "sn.heatmap(df_cm, annot=True,fmt='g',cmap ='Blues')# font size"
   ]
  },
  {
   "cell_type": "markdown",
   "metadata": {},
   "source": [
    "With a simple Logistic Regression the classifier was not able to separate the classes in a linear fashion.\n",
    "\n",
    "Let's try to apply Random Forest with boosting, more specificaly Gradient Boosting, or XGBoost."
   ]
  },
  {
   "cell_type": "markdown",
   "metadata": {},
   "source": [
    "## XGBoost"
   ]
  },
  {
   "cell_type": "code",
   "execution_count": null,
   "metadata": {
    "collapsed": true,
    "scrolled": true
   },
   "outputs": [],
   "source": [
    "clf = XGBClassifier()\n",
    "clf.fit(X_train, y_train)"
   ]
  },
  {
   "cell_type": "code",
   "execution_count": null,
   "metadata": {
    "collapsed": true
   },
   "outputs": [],
   "source": [
    "y_pred = clf.predict(X_test)"
   ]
  },
  {
   "cell_type": "code",
   "execution_count": null,
   "metadata": {
    "collapsed": true
   },
   "outputs": [],
   "source": [
    "accuracies = cross_val_score(estimator = clf,\n",
    "                             X = X_train,\n",
    "                             y = y_train,\n",
    "                             cv = 10,\n",
    "                             n_jobs = -1)\n",
    "accuracies.mean()"
   ]
  },
  {
   "cell_type": "code",
   "execution_count": null,
   "metadata": {
    "collapsed": true
   },
   "outputs": [],
   "source": [
    "accuracies.std()"
   ]
  },
  {
   "cell_type": "code",
   "execution_count": null,
   "metadata": {
    "collapsed": true
   },
   "outputs": [],
   "source": [
    "cm = confusion_matrix(y_test, y_pred)\n",
    "print(classification_report(y_test, y_pred, target_names=['Non-seizure', 'Seizure']))\n",
    "\n",
    "df_cm = pd.DataFrame(cm, range(2), range(2))\n",
    "sn.heatmap(df_cm, annot=True,fmt='g',cmap ='Blues')# font size"
   ]
  },
  {
   "cell_type": "markdown",
   "metadata": {},
   "source": [
    "Using boosting techniques to the random forest classifier (XGBoost) we are able to obtain near perfect accuracies on our data! But that's not telling the whole history, let's investigate our features even further."
   ]
  },
  {
   "cell_type": "markdown",
   "metadata": {},
   "source": [
    "## Artificial Neural Networks\n",
    "\n",
    "Let's try using a simple, shallow neural network on our problem"
   ]
  },
  {
   "cell_type": "code",
   "execution_count": 27,
   "metadata": {
    "scrolled": true
   },
   "outputs": [
    {
     "name": "stdout",
     "output_type": "stream",
     "text": [
      "Train on 9200 samples, validate on 2300 samples\n",
      "Epoch 1/100\n",
      "9200/9200 [==============================] - 3s 348us/step - loss: 0.2635 - acc: 0.9178 - val_loss: 0.1635 - val_acc: 0.9504\n",
      "Epoch 2/100\n",
      "9200/9200 [==============================] - 2s 222us/step - loss: 0.1673 - acc: 0.9476 - val_loss: 0.1493 - val_acc: 0.9470\n",
      "Epoch 3/100\n",
      "9200/9200 [==============================] - 2s 195us/step - loss: 0.1496 - acc: 0.9489 - val_loss: 0.1325 - val_acc: 0.9474\n",
      "Epoch 4/100\n",
      "9200/9200 [==============================] - 2s 173us/step - loss: 0.1370 - acc: 0.9537 - val_loss: 0.1172 - val_acc: 0.9474\n",
      "Epoch 5/100\n",
      "9200/9200 [==============================] - 1s 152us/step - loss: 0.1188 - acc: 0.9558 - val_loss: 0.1110 - val_acc: 0.9517\n",
      "Epoch 6/100\n",
      "9200/9200 [==============================] - 2s 164us/step - loss: 0.1166 - acc: 0.9567 - val_loss: 0.1063 - val_acc: 0.9539\n",
      "Epoch 7/100\n",
      "9200/9200 [==============================] - 1s 162us/step - loss: 0.1120 - acc: 0.9592 - val_loss: 0.0931 - val_acc: 0.9587\n",
      "Epoch 8/100\n",
      "9200/9200 [==============================] - 2s 185us/step - loss: 0.1132 - acc: 0.9570 - val_loss: 0.0981 - val_acc: 0.9596\n",
      "Epoch 9/100\n",
      "9200/9200 [==============================] - 2s 165us/step - loss: 0.1025 - acc: 0.9603 - val_loss: 0.0987 - val_acc: 0.9587\n",
      "Epoch 10/100\n",
      "9200/9200 [==============================] - 2s 170us/step - loss: 0.0971 - acc: 0.9614 - val_loss: 0.0913 - val_acc: 0.9604\n",
      "Epoch 11/100\n",
      "9200/9200 [==============================] - 1s 160us/step - loss: 0.1025 - acc: 0.9602 - val_loss: 0.0854 - val_acc: 0.9648\n",
      "Epoch 12/100\n",
      "9200/9200 [==============================] - 2s 171us/step - loss: 0.0925 - acc: 0.9649 - val_loss: 0.0898 - val_acc: 0.9630\n",
      "Epoch 13/100\n",
      "9200/9200 [==============================] - 1s 146us/step - loss: 0.0958 - acc: 0.9645 - val_loss: 0.0842 - val_acc: 0.9652\n",
      "Epoch 14/100\n",
      "9200/9200 [==============================] - 1s 143us/step - loss: 0.0930 - acc: 0.9653 - val_loss: 0.0835 - val_acc: 0.9670\n",
      "Epoch 15/100\n",
      "9200/9200 [==============================] - 1s 142us/step - loss: 0.0966 - acc: 0.9658 - val_loss: 0.0860 - val_acc: 0.9639\n",
      "Epoch 16/100\n",
      "9200/9200 [==============================] - 1s 142us/step - loss: 0.0898 - acc: 0.9666 - val_loss: 0.0870 - val_acc: 0.9643\n",
      "Epoch 17/100\n",
      "9200/9200 [==============================] - 1s 141us/step - loss: 0.0921 - acc: 0.9650 - val_loss: 0.0852 - val_acc: 0.9652\n",
      "Epoch 18/100\n",
      "9200/9200 [==============================] - 1s 140us/step - loss: 0.0867 - acc: 0.9660 - val_loss: 0.0790 - val_acc: 0.9726\n",
      "Epoch 19/100\n",
      "9200/9200 [==============================] - 1s 142us/step - loss: 0.0895 - acc: 0.9680 - val_loss: 0.0828 - val_acc: 0.9661\n",
      "Epoch 20/100\n",
      "9200/9200 [==============================] - 1s 142us/step - loss: 0.0913 - acc: 0.9673 - val_loss: 0.0847 - val_acc: 0.9665\n",
      "Epoch 21/100\n",
      "9200/9200 [==============================] - 1s 142us/step - loss: 0.0832 - acc: 0.9682 - val_loss: 0.0817 - val_acc: 0.9683\n",
      "Epoch 22/100\n",
      "9200/9200 [==============================] - 1s 142us/step - loss: 0.0802 - acc: 0.9715 - val_loss: 0.0800 - val_acc: 0.9691\n",
      "Epoch 23/100\n",
      "9200/9200 [==============================] - 1s 141us/step - loss: 0.0787 - acc: 0.9699 - val_loss: 0.0772 - val_acc: 0.9713\n",
      "Epoch 24/100\n",
      "9200/9200 [==============================] - 1s 141us/step - loss: 0.0808 - acc: 0.9687 - val_loss: 0.0814 - val_acc: 0.9700\n",
      "Epoch 25/100\n",
      "9200/9200 [==============================] - 1s 141us/step - loss: 0.0759 - acc: 0.9711 - val_loss: 0.0813 - val_acc: 0.9670\n",
      "Epoch 26/100\n",
      "9200/9200 [==============================] - 1s 145us/step - loss: 0.0823 - acc: 0.9704 - val_loss: 0.0847 - val_acc: 0.9657\n",
      "Epoch 27/100\n",
      "9200/9200 [==============================] - 1s 143us/step - loss: 0.0816 - acc: 0.9696 - val_loss: 0.0802 - val_acc: 0.9687\n",
      "Epoch 28/100\n",
      "9200/9200 [==============================] - 1s 142us/step - loss: 0.0803 - acc: 0.9701 - val_loss: 0.0856 - val_acc: 0.9630\n",
      "Epoch 00028: early stopping\n",
      "             precision    recall  f1-score   support\n",
      "\n",
      "Non-seizure       0.97      0.99      0.98      1827\n",
      "    Seizure       0.94      0.87      0.91       473\n",
      "\n",
      "avg / total       0.96      0.96      0.96      2300\n",
      "\n"
     ]
    },
    {
     "data": {
      "text/plain": [
       "<matplotlib.axes._subplots.AxesSubplot at 0x7f85567c17f0>"
      ]
     },
     "execution_count": 27,
     "metadata": {},
     "output_type": "execute_result"
    },
    {
     "data": {
      "image/png": "[encoded data removed]",
      "text/plain": [
       "<matplotlib.figure.Figure at 0x7f85567c1518>"
      ]
     },
     "metadata": {},
     "output_type": "display_data"
    }
   ],
   "source": [
    "early_stop = keras.callbacks.EarlyStopping(monitor='val_acc',\n",
    "                                           min_delta=0,\n",
    "                                           patience=10,\n",
    "                                           verbose=1,\n",
    "                                           mode='auto')\n",
    "# Initialising the ANN\n",
    "clf_ann = Sequential()\n",
    "\n",
    "# Adding the input layer and the first hidden layer\n",
    "clf_ann.add(Dense(activation=\"relu\",\n",
    "                  kernel_initializer=\"uniform\", \n",
    "                  units=100,\n",
    "                  input_dim=178))\n",
    "clf_ann.add(BatchNormalization())\n",
    "clf_ann.add(Dropout(0.5))\n",
    "# Adding the second hidden layer\n",
    "clf_ann.add(Dense(activation=\"relu\",\n",
    "                  kernel_initializer=\"uniform\",\n",
    "                  units=100))\n",
    "clf_ann.add(BatchNormalization())\n",
    "clf_ann.add(Dropout(0.5))\n",
    "# Adding the output layer\n",
    "clf_ann.add(Dense(units=1,\n",
    "                  kernel_initializer=\"uniform\",\n",
    "                  activation=\"sigmoid\"))\n",
    "\n",
    "# Compiling the ANN\n",
    "clf_ann.compile(optimizer = 'adam',\n",
    "                loss = 'binary_crossentropy',\n",
    "                metrics = ['accuracy'])\n",
    "# loss = 'categorical_crossentropy'\n",
    "# Fitting the ANN to the Training set\n",
    "clf_ann.fit(X_train, y_train,\n",
    "               batch_size = 32,\n",
    "               epochs = 100,\n",
    "               validation_data=(X_test,y_test),\n",
    "               callbacks=[early_stop])\n",
    "\n",
    "# Part 3 - Making the predictions and evaluating the model\n",
    "\n",
    "# Predicting the Test set results\n",
    "y_pred = clf_ann.predict(X_test)\n",
    "y_pred = (y_pred > 0.5)\n",
    "\n",
    "# Making the Confusion Matrix\n",
    "cm = confusion_matrix(y_test, y_pred)\n",
    "print(classification_report(y_test, y_pred, target_names=['Non-seizure', 'Seizure']))\n",
    "\n",
    "df_cm = pd.DataFrame(cm, range(2), range(2))\n",
    "sn.heatmap(df_cm, annot=True,fmt='g',cmap ='Blues')# font size"
   ]
  },
  {
   "cell_type": "markdown",
   "metadata": {},
   "source": [
    "# Feature selection"
   ]
  },
  {
   "cell_type": "code",
   "execution_count": null,
   "metadata": {
    "collapsed": true
   },
   "outputs": [],
   "source": [
    "# find best scored 5 features\n",
    "select_feature = SelectKBest(k=10).fit(X_train, y_train)"
   ]
  },
  {
   "cell_type": "code",
   "execution_count": null,
   "metadata": {
    "collapsed": true
   },
   "outputs": [],
   "source": [
    "x_train_2 = select_feature.transform(X_train)\n",
    "x_test_2 = select_feature.transform(X_test)\n",
    "#random forest classifier with n_estimators=10 (default)\n",
    "clf_2 = XGBClassifier()     \n",
    "clr_2 = clf_2.fit(x_train_2,y_train)"
   ]
  },
  {
   "cell_type": "code",
   "execution_count": null,
   "metadata": {
    "collapsed": true
   },
   "outputs": [],
   "source": [
    "y_pred = clf_2.predict(x_test_2)\n",
    "\n",
    "accuracies = cross_val_score(estimator = clf_2,\n",
    "                             X = x_train_2,\n",
    "                             y = y_train,\n",
    "                             cv = 10,\n",
    "                             n_jobs = -1)\n",
    "accuracies.mean()"
   ]
  },
  {
   "cell_type": "code",
   "execution_count": null,
   "metadata": {
    "collapsed": true
   },
   "outputs": [],
   "source": [
    "accuracies.std()"
   ]
  },
  {
   "cell_type": "code",
   "execution_count": null,
   "metadata": {
    "collapsed": true
   },
   "outputs": [],
   "source": [
    "# The \"accuracy\" scoring is proportional to the number of correct classifications\n",
    "clf_3 = RandomForestClassifier() \n",
    "rfecv = RFECV(estimator=clf_3, step=1, cv=5,scoring='accuracy', n_jobs=-1)   #5-fold cross-validation\n",
    "rfecv = rfecv.fit(X_train, y_train)"
   ]
  },
  {
   "cell_type": "code",
   "execution_count": null,
   "metadata": {
    "collapsed": true
   },
   "outputs": [],
   "source": [
    "plt.figure()\n",
    "plt.xlabel(\"Number of features selected\")\n",
    "plt.ylabel(\"Cross validation score of number of selected features\")\n",
    "plt.plot(range(1, len(rfecv.grid_scores_) + 1), rfecv.grid_scores_)\n",
    "plt.show()"
   ]
  },
  {
   "cell_type": "markdown",
   "metadata": {},
   "source": [
    "## Principal Component Analysis (PCA)"
   ]
  },
  {
   "cell_type": "code",
   "execution_count": null,
   "metadata": {
    "collapsed": true
   },
   "outputs": [],
   "source": [
    "pca = PCA(n_components = 2)\n",
    "X_train_pca = pca.fit_transform(X_train)\n",
    "X_test_pca = pca.transform(X_test)\n",
    "explained_variance = pca.explained_variance_ratio_\n",
    "explained_variance"
   ]
  },
  {
   "cell_type": "code",
   "execution_count": null,
   "metadata": {
    "collapsed": true
   },
   "outputs": [],
   "source": [
    "np.sum(explained_variance)"
   ]
  },
  {
   "cell_type": "markdown",
   "metadata": {},
   "source": [
    "As we can see PCA is not a good technique for our dataset, we need at least 20 components to have ~70% of explained variance."
   ]
  },
  {
   "cell_type": "markdown",
   "metadata": {},
   "source": [
    "## Linear Discriminant Analysis (LDA)"
   ]
  },
  {
   "cell_type": "code",
   "execution_count": null,
   "metadata": {
    "collapsed": true
   },
   "outputs": [],
   "source": [
    "# Applying LDA\n",
    "lda = LDA(n_components = 2)\n",
    "X_train_lda = lda.fit_transform(X_train, y_train)\n",
    "X_test_lda = lda.transform(X_test)\n",
    "\n",
    "# Fitting Logistic Regression to the Training set\n",
    "classifier = LogisticRegression()\n",
    "classifier.fit(X_train_lda, y_train)\n",
    "\n",
    "# Predicting the Test set results\n",
    "y_pred = classifier.predict(X_test_lda)\n",
    "\n",
    "# Making the Confusion Matrix\n",
    "cm = confusion_matrix(y_test, y_pred)\n",
    "print(classification_report(y_test, y_pred, target_names=['Non-seizure', 'Seizure']))\n",
    "\n",
    "df_cm = pd.DataFrame(cm, range(2), range(2))\n",
    "sn.heatmap(df_cm, annot=True,fmt='g',cmap ='Blues')# font size"
   ]
  },
  {
   "cell_type": "markdown",
   "metadata": {},
   "source": [
    "Once again, linear predictors don't show good separation between classes"
   ]
  },
  {
   "cell_type": "markdown",
   "metadata": {},
   "source": [
    "## Feature enginnering\n",
    "\n",
    "We are using the time domain features of the EEG in our classification. The literature shows a lot of studies that proves that there are a lot of important information on the frequency domain.\n",
    "\n",
    "Let's apply the Fourier Transform to our dataset and use the frequency domain features on our classification"
   ]
  },
  {
   "cell_type": "code",
   "execution_count": 70,
   "metadata": {},
   "outputs": [
    {
     "data": {
      "text/plain": [
       "array([ 135,  190,  229,  223,  192,  125,   55,   -9,  -33,  -38,  -10,\n",
       "         35,   64,  113,  152,  164,  127,   50,  -47, -121, -138, -125,\n",
       "       -101,  -50,   11,   39,   24,   48,   64,   46])"
      ]
     },
     "execution_count": 70,
     "metadata": {},
     "output_type": "execute_result"
    }
   ],
   "source": [
    "X_new = dataset.iloc[:,1:179].values\n",
    "X_new[0,0:30]"
   ]
  },
  {
   "cell_type": "code",
   "execution_count": 71,
   "metadata": {},
   "outputs": [
    {
     "data": {
      "text/plain": [
       "array([0, 1, 0, 0, 0, 0, 0, 0, 1, 0, 0, 1, 0, 0, 0, 0, 0, 0, 0, 0, 1, 0,\n",
       "       1, 1, 1, 0, 0, 1, 0, 0])"
      ]
     },
     "execution_count": 71,
     "metadata": {},
     "output_type": "execute_result"
    }
   ],
   "source": [
    "y_fft = dataset.iloc[:,179].values\n",
    "y_fft[0:30]"
   ]
  },
  {
   "cell_type": "code",
   "execution_count": 72,
   "metadata": {},
   "outputs": [
    {
     "data": {
      "text/plain": [
       "(11500, 90)"
      ]
     },
     "execution_count": 72,
     "metadata": {},
     "output_type": "execute_result"
    }
   ],
   "source": [
    "X_fft = np.fft.rfft(X_new,axis=1)\n",
    "X_fft.shape"
   ]
  },
  {
   "cell_type": "code",
   "execution_count": 73,
   "metadata": {
    "scrolled": true
   },
   "outputs": [
    {
     "data": {
      "text/plain": [
       "[<matplotlib.lines.Line2D at 0x7f853f631a20>]"
      ]
     },
     "execution_count": 73,
     "metadata": {},
     "output_type": "execute_result"
    },
    {
     "data": {
      "image/png": "[encoded data removed]",
      "text/plain": [
       "<matplotlib.figure.Figure at 0x7f8546fa1f98>"
      ]
     },
     "metadata": {},
     "output_type": "display_data"
    }
   ],
   "source": [
    "plt.subplot(511)\n",
    "plt.plot(X_fft[1,:])\n",
    "plt.subplot(512)\n",
    "plt.plot(X_fft[7,:])\n",
    "plt.subplot(513)\n",
    "plt.plot(X_fft[12,:])\n",
    "plt.subplot(514)\n",
    "plt.plot(X_fft[0,:])\n",
    "plt.subplot(515)\n",
    "plt.plot(X_fft[2,:])"
   ]
  },
  {
   "cell_type": "markdown",
   "metadata": {},
   "source": [
    "As it's evident, it was applied a lowpass filter at 40 Hz (this information is also given by the dataset owners).\n",
    "\n",
    "So let's use only the first 40 points of our data."
   ]
  },
  {
   "cell_type": "code",
   "execution_count": 74,
   "metadata": {
    "scrolled": true
   },
   "outputs": [
    {
     "data": {
      "text/plain": [
       "[<matplotlib.lines.Line2D at 0x7f853f4bc048>]"
      ]
     },
     "execution_count": 74,
     "metadata": {},
     "output_type": "execute_result"
    },
    {
     "data": {
      "image/png": "[encoded data removed]",
      "text/plain": [
       "<matplotlib.figure.Figure at 0x7f8546fa1208>"
      ]
     },
     "metadata": {},
     "output_type": "display_data"
    }
   ],
   "source": [
    "X_fft = X_fft[:,0:30]\n",
    "plt.subplot(511)\n",
    "plt.plot(X_fft[1,:])\n",
    "plt.subplot(512)\n",
    "plt.plot(X_fft[7,:])\n",
    "plt.subplot(513)\n",
    "plt.plot(X_fft[12,:])\n",
    "plt.subplot(514)\n",
    "plt.plot(X_fft[0,:])\n",
    "plt.subplot(515)\n",
    "plt.plot(X_fft[2,:])"
   ]
  },
  {
   "cell_type": "code",
   "execution_count": 75,
   "metadata": {},
   "outputs": [
    {
     "data": {
      "text/plain": [
       "XGBClassifier(base_score=0.5, booster='gbtree', colsample_bylevel=1,\n",
       "       colsample_bytree=1, gamma=0, learning_rate=0.1, max_delta_step=0,\n",
       "       max_depth=3, min_child_weight=1, missing=None, n_estimators=100,\n",
       "       n_jobs=1, nthread=None, objective='binary:logistic', random_state=0,\n",
       "       reg_alpha=0, reg_lambda=1, scale_pos_weight=1, seed=None,\n",
       "       silent=True, subsample=1)"
      ]
     },
     "execution_count": 75,
     "metadata": {},
     "output_type": "execute_result"
    }
   ],
   "source": [
    "X_train_fft, X_test_fft, y_train_fft, y_test_fft = train_test_split(X_fft, y, test_size = 0.2)\n",
    "sc = StandardScaler()\n",
    "X_train_fft = sc.fit_transform(X_train_fft)\n",
    "X_test_fft = sc.transform(X_test_fft)\n",
    "clf_fft = XGBClassifier()\n",
    "clf_fft.fit(X_train_fft, y_train_fft)"
   ]
  },
  {
   "cell_type": "code",
   "execution_count": 34,
   "metadata": {},
   "outputs": [
    {
     "data": {
      "text/plain": [
       "0.964565665324767"
      ]
     },
     "execution_count": 34,
     "metadata": {},
     "output_type": "execute_result"
    }
   ],
   "source": [
    "y_pred_fft = clf_fft.predict(X_test_fft)\n",
    "accuracies = cross_val_score(estimator = clf_fft,\n",
    "                             X = X_train_fft,\n",
    "                             y = y_train_fft,\n",
    "                             cv = 10,\n",
    "                             n_jobs = -1)\n",
    "accuracies.mean()"
   ]
  },
  {
   "cell_type": "code",
   "execution_count": 35,
   "metadata": {},
   "outputs": [
    {
     "data": {
      "text/plain": [
       "0.005304384138896117"
      ]
     },
     "execution_count": 35,
     "metadata": {},
     "output_type": "execute_result"
    }
   ],
   "source": [
    "accuracies.std()"
   ]
  },
  {
   "cell_type": "code",
   "execution_count": 36,
   "metadata": {
    "scrolled": false
   },
   "outputs": [
    {
     "name": "stdout",
     "output_type": "stream",
     "text": [
      "             precision    recall  f1-score   support\n",
      "\n",
      "Non-seizure       0.97      0.99      0.98      1823\n",
      "    Seizure       0.96      0.88      0.92       477\n",
      "\n",
      "avg / total       0.97      0.97      0.97      2300\n",
      "\n"
     ]
    },
    {
     "data": {
      "text/plain": [
       "<matplotlib.axes._subplots.AxesSubplot at 0x7f8556813748>"
      ]
     },
     "execution_count": 36,
     "metadata": {},
     "output_type": "execute_result"
    },
    {
     "data": {
      "image/png": "[encoded data removed]",
      "text/plain": [
       "<matplotlib.figure.Figure at 0x7f8556826400>"
      ]
     },
     "metadata": {},
     "output_type": "display_data"
    }
   ],
   "source": [
    "cm = confusion_matrix(y_test_fft, y_pred_fft)\n",
    "print(classification_report(y_test_fft, y_pred_fft, target_names=['Non-seizure', 'Seizure']))\n",
    "\n",
    "df_cm = pd.DataFrame(cm, range(2), range(2))\n",
    "sn.heatmap(df_cm, annot=True,fmt='g',cmap ='Blues')# font size"
   ]
  },
  {
   "cell_type": "markdown",
   "metadata": {},
   "source": [
    "### Time + frequency features\n",
    "\n",
    "Let's see if using both features at the same time it's possible to achieve a better accuracy"
   ]
  },
  {
   "cell_type": "code",
   "execution_count": 78,
   "metadata": {},
   "outputs": [
    {
     "data": {
      "text/plain": [
       "(11500, 208)"
      ]
     },
     "execution_count": 78,
     "metadata": {},
     "output_type": "execute_result"
    }
   ],
   "source": [
    "X_fft = np.fft.rfft(X_new,axis=1)\n",
    "X_fft = X_fft[:,0:30]\n",
    "X_both = np.concatenate((X_new,X_fft),axis=1)\n",
    "X_both.shape"
   ]
  },
  {
   "cell_type": "code",
   "execution_count": 79,
   "metadata": {},
   "outputs": [
    {
     "data": {
      "text/plain": [
       "XGBClassifier(base_score=0.5, booster='gbtree', colsample_bylevel=1,\n",
       "       colsample_bytree=1, gamma=0, learning_rate=0.1, max_delta_step=0,\n",
       "       max_depth=3, min_child_weight=1, missing=None, n_estimators=100,\n",
       "       n_jobs=1, nthread=None, objective='binary:logistic', random_state=0,\n",
       "       reg_alpha=0, reg_lambda=1, scale_pos_weight=1, seed=None,\n",
       "       silent=True, subsample=1)"
      ]
     },
     "execution_count": 79,
     "metadata": {},
     "output_type": "execute_result"
    }
   ],
   "source": [
    "X_train_both, X_test_both, y_train_both, y_test_both = train_test_split(X_both, y, test_size = 0.2)\n",
    "sc = StandardScaler()\n",
    "X_train_both = sc.fit_transform(X_train_both)\n",
    "X_test_both = sc.transform(X_test_both)\n",
    "clf_both = XGBClassifier()\n",
    "clf_both.fit(X_train_both, y_train_both)"
   ]
  },
  {
   "cell_type": "code",
   "execution_count": 52,
   "metadata": {},
   "outputs": [
    {
     "data": {
      "text/plain": [
       "0.9689130368003538"
      ]
     },
     "execution_count": 52,
     "metadata": {},
     "output_type": "execute_result"
    }
   ],
   "source": [
    "y_pred_both = clf_both.predict(X_test_both)\n",
    "accuracies = cross_val_score(estimator = clf_both,\n",
    "                             X = X_train_both,\n",
    "                             y = y_train_both,\n",
    "                             cv = 10,\n",
    "                             n_jobs = -1)\n",
    "accuracies.mean()"
   ]
  },
  {
   "cell_type": "code",
   "execution_count": 53,
   "metadata": {},
   "outputs": [
    {
     "data": {
      "text/plain": [
       "0.0042433267676053234"
      ]
     },
     "execution_count": 53,
     "metadata": {},
     "output_type": "execute_result"
    }
   ],
   "source": [
    "accuracies.std()"
   ]
  },
  {
   "cell_type": "code",
   "execution_count": 54,
   "metadata": {},
   "outputs": [
    {
     "name": "stdout",
     "output_type": "stream",
     "text": [
      "             precision    recall  f1-score   support\n",
      "\n",
      "Non-seizure       0.97      0.99      0.98      1831\n",
      "    Seizure       0.96      0.87      0.91       469\n",
      "\n",
      "avg / total       0.97      0.97      0.97      2300\n",
      "\n"
     ]
    },
    {
     "data": {
      "text/plain": [
       "<matplotlib.axes._subplots.AxesSubplot at 0x7f8543e240b8>"
      ]
     },
     "execution_count": 54,
     "metadata": {},
     "output_type": "execute_result"
    },
    {
     "data": {
      "image/png": "[encoded data removed]",
      "text/plain": [
       "<matplotlib.figure.Figure at 0x7f8543eeb5c0>"
      ]
     },
     "metadata": {},
     "output_type": "display_data"
    }
   ],
   "source": [
    "cm = confusion_matrix(y_test_both, y_pred_both)\n",
    "print(classification_report(y_test_both, y_pred_both, target_names=['Non-seizure', 'Seizure']))\n",
    "\n",
    "df_cm = pd.DataFrame(cm, range(2), range(2))\n",
    "sn.heatmap(df_cm, annot=True,fmt='g',cmap ='Blues')# font size"
   ]
  },
  {
   "cell_type": "code",
   "execution_count": 80,
   "metadata": {
    "scrolled": false
   },
   "outputs": [
    {
     "name": "stdout",
     "output_type": "stream",
     "text": [
      "Train on 9200 samples, validate on 2300 samples\n",
      "Epoch 1/100\n",
      "9200/9200 [==============================] - 5s 525us/step - loss: 0.2597 - acc: 0.9195 - val_loss: 0.1343 - val_acc: 0.9596\n",
      "Epoch 2/100\n",
      "9200/9200 [==============================] - 2s 222us/step - loss: 0.1769 - acc: 0.9425 - val_loss: 0.1166 - val_acc: 0.9565\n",
      "Epoch 3/100\n",
      "9200/9200 [==============================] - 2s 206us/step - loss: 0.1523 - acc: 0.9482 - val_loss: 0.1075 - val_acc: 0.9561\n",
      "Epoch 4/100\n",
      "9200/9200 [==============================] - 2s 217us/step - loss: 0.1309 - acc: 0.9536 - val_loss: 0.0953 - val_acc: 0.9622\n",
      "Epoch 5/100\n",
      "9200/9200 [==============================] - 2s 221us/step - loss: 0.1272 - acc: 0.9537 - val_loss: 0.0870 - val_acc: 0.9652\n",
      "Epoch 6/100\n",
      "9200/9200 [==============================] - 2s 255us/step - loss: 0.1112 - acc: 0.9578 - val_loss: 0.0864 - val_acc: 0.9661\n",
      "Epoch 7/100\n",
      "9200/9200 [==============================] - 2s 231us/step - loss: 0.1152 - acc: 0.9572 - val_loss: 0.0758 - val_acc: 0.9726\n",
      "Epoch 8/100\n",
      "9200/9200 [==============================] - 2s 176us/step - loss: 0.1129 - acc: 0.9580 - val_loss: 0.0775 - val_acc: 0.9717\n",
      "Epoch 9/100\n",
      "9200/9200 [==============================] - 2s 174us/step - loss: 0.1041 - acc: 0.9628 - val_loss: 0.0722 - val_acc: 0.9735\n",
      "Epoch 10/100\n",
      "9200/9200 [==============================] - 2s 181us/step - loss: 0.1023 - acc: 0.9630 - val_loss: 0.0742 - val_acc: 0.9704\n",
      "Epoch 11/100\n",
      "9200/9200 [==============================] - 2s 192us/step - loss: 0.0978 - acc: 0.9633 - val_loss: 0.0696 - val_acc: 0.9743\n",
      "Epoch 12/100\n",
      "9200/9200 [==============================] - 2s 189us/step - loss: 0.0974 - acc: 0.9648 - val_loss: 0.0697 - val_acc: 0.9726\n",
      "Epoch 13/100\n",
      "9200/9200 [==============================] - 2s 188us/step - loss: 0.0959 - acc: 0.9649 - val_loss: 0.0744 - val_acc: 0.9704\n",
      "Epoch 14/100\n",
      "9200/9200 [==============================] - 2s 198us/step - loss: 0.0919 - acc: 0.9655 - val_loss: 0.0690 - val_acc: 0.9726\n",
      "Epoch 15/100\n",
      "9200/9200 [==============================] - 2s 181us/step - loss: 0.0918 - acc: 0.9667 - val_loss: 0.0690 - val_acc: 0.9748\n",
      "Epoch 16/100\n",
      "9200/9200 [==============================] - 2s 194us/step - loss: 0.0885 - acc: 0.9687 - val_loss: 0.0674 - val_acc: 0.9739\n",
      "Epoch 17/100\n",
      "9200/9200 [==============================] - 2s 203us/step - loss: 0.0886 - acc: 0.9653 - val_loss: 0.0677 - val_acc: 0.9743\n",
      "Epoch 18/100\n",
      "9200/9200 [==============================] - 2s 215us/step - loss: 0.0922 - acc: 0.9664 - val_loss: 0.0701 - val_acc: 0.9730\n",
      "Epoch 19/100\n",
      "9200/9200 [==============================] - 2s 190us/step - loss: 0.0881 - acc: 0.9682 - val_loss: 0.0668 - val_acc: 0.9752\n",
      "Epoch 20/100\n",
      "9200/9200 [==============================] - 2s 190us/step - loss: 0.0898 - acc: 0.9659 - val_loss: 0.0707 - val_acc: 0.9752\n",
      "Epoch 21/100\n",
      "9200/9200 [==============================] - 2s 187us/step - loss: 0.0847 - acc: 0.9688 - val_loss: 0.0648 - val_acc: 0.9761\n",
      "Epoch 22/100\n",
      "9200/9200 [==============================] - 2s 193us/step - loss: 0.0797 - acc: 0.9708 - val_loss: 0.0637 - val_acc: 0.9783\n",
      "Epoch 23/100\n",
      "9200/9200 [==============================] - 2s 167us/step - loss: 0.0813 - acc: 0.9698 - val_loss: 0.0646 - val_acc: 0.9774\n",
      "Epoch 24/100\n",
      "9200/9200 [==============================] - 2s 165us/step - loss: 0.0780 - acc: 0.9714 - val_loss: 0.0621 - val_acc: 0.9796\n",
      "Epoch 25/100\n",
      "9200/9200 [==============================] - 2s 167us/step - loss: 0.0830 - acc: 0.9673 - val_loss: 0.0628 - val_acc: 0.9796\n",
      "Epoch 26/100\n",
      "9200/9200 [==============================] - 2s 200us/step - loss: 0.0768 - acc: 0.9709 - val_loss: 0.0605 - val_acc: 0.9778\n",
      "Epoch 27/100\n",
      "9200/9200 [==============================] - 2s 229us/step - loss: 0.0768 - acc: 0.9730 - val_loss: 0.0615 - val_acc: 0.9778\n",
      "Epoch 28/100\n",
      "9200/9200 [==============================] - 2s 201us/step - loss: 0.0795 - acc: 0.9692 - val_loss: 0.0634 - val_acc: 0.9783\n",
      "Epoch 29/100\n",
      "9200/9200 [==============================] - 2s 249us/step - loss: 0.0754 - acc: 0.9722 - val_loss: 0.0622 - val_acc: 0.9813\n",
      "Epoch 30/100\n",
      "9200/9200 [==============================] - 2s 175us/step - loss: 0.0810 - acc: 0.9693 - val_loss: 0.0637 - val_acc: 0.9765\n",
      "Epoch 31/100\n",
      "9200/9200 [==============================] - 2s 206us/step - loss: 0.0765 - acc: 0.9716 - val_loss: 0.0607 - val_acc: 0.9804\n",
      "Epoch 32/100\n",
      "9200/9200 [==============================] - 2s 177us/step - loss: 0.0684 - acc: 0.9742 - val_loss: 0.0655 - val_acc: 0.9770\n",
      "Epoch 33/100\n",
      "9200/9200 [==============================] - 2s 166us/step - loss: 0.0777 - acc: 0.9713 - val_loss: 0.0653 - val_acc: 0.9761\n",
      "Epoch 34/100\n",
      "9200/9200 [==============================] - 2s 169us/step - loss: 0.0701 - acc: 0.9745 - val_loss: 0.0644 - val_acc: 0.9757\n",
      "Epoch 35/100\n",
      "9200/9200 [==============================] - 2s 168us/step - loss: 0.0665 - acc: 0.9762 - val_loss: 0.0596 - val_acc: 0.9804\n",
      "Epoch 36/100\n",
      "9200/9200 [==============================] - 2s 176us/step - loss: 0.0667 - acc: 0.9747 - val_loss: 0.0602 - val_acc: 0.9787\n",
      "Epoch 37/100\n",
      "9200/9200 [==============================] - 2s 164us/step - loss: 0.0730 - acc: 0.9736 - val_loss: 0.0587 - val_acc: 0.9770\n",
      "Epoch 38/100\n",
      "9200/9200 [==============================] - 2s 165us/step - loss: 0.0716 - acc: 0.9730 - val_loss: 0.0619 - val_acc: 0.9778\n",
      "Epoch 39/100\n",
      "9200/9200 [==============================] - 2s 182us/step - loss: 0.0686 - acc: 0.9742 - val_loss: 0.0630 - val_acc: 0.9787\n",
      "Epoch 00039: early stopping\n",
      "             precision    recall  f1-score   support\n",
      "\n",
      "Non-seizure       0.98      0.99      0.99      1844\n",
      "    Seizure       0.96      0.93      0.95       456\n",
      "\n",
      "avg / total       0.98      0.98      0.98      2300\n",
      "\n"
     ]
    },
    {
     "data": {
      "text/plain": [
       "<matplotlib.axes._subplots.AxesSubplot at 0x7f8542a4ddd8>"
      ]
     },
     "execution_count": 80,
     "metadata": {},
     "output_type": "execute_result"
    },
    {
     "data": {
      "image/png": "[encoded data removed]",
      "text/plain": [
       "<matplotlib.figure.Figure at 0x7f8542a4d978>"
      ]
     },
     "metadata": {},
     "output_type": "display_data"
    }
   ],
   "source": [
    "early_stop = keras.callbacks.EarlyStopping(monitor='val_acc',\n",
    "                                           min_delta=0,\n",
    "                                           patience=10,\n",
    "                                           verbose=1,\n",
    "                                           mode='auto')\n",
    "# Initialising the ANN\n",
    "clf_ann2 = Sequential()\n",
    "\n",
    "# Adding the input layer and the first hidden layer\n",
    "clf_ann2.add(Dense(activation=\"relu\",\n",
    "                  kernel_initializer=\"uniform\", \n",
    "                  units=100,\n",
    "                  input_dim=208))\n",
    "clf_ann2.add(BatchNormalization())\n",
    "clf_ann2.add(Dropout(0.5))\n",
    "# Adding the second hidden layer\n",
    "clf_ann2.add(Dense(activation=\"relu\",\n",
    "                  kernel_initializer=\"uniform\",\n",
    "                  units=100))\n",
    "clf_ann2.add(BatchNormalization())\n",
    "clf_ann2.add(Dropout(0.5))\n",
    "\n",
    "# Adding the output layer\n",
    "clf_ann2.add(Dense(units=1,\n",
    "                  kernel_initializer=\"uniform\",\n",
    "                  activation=\"sigmoid\"))\n",
    "\n",
    "# Compiling the ANN\n",
    "clf_ann2.compile(optimizer = 'adam',\n",
    "                loss = 'binary_crossentropy',\n",
    "                metrics = ['accuracy'])\n",
    "# loss = 'categorical_crossentropy'\n",
    "# Fitting the ANN to the Training set\n",
    "clf_ann2.fit(X_train_both, \n",
    "            y_train_both,\n",
    "            batch_size = 32,\n",
    "            epochs = 100,\n",
    "            validation_data=(X_test_both,y_test_both),\n",
    "            callbacks=[early_stop])\n",
    "\n",
    "# Part 3 - Making the predictions and evaluating the model\n",
    "\n",
    "# Predicting the Test set results\n",
    "y_pred_both = clf_ann2.predict(X_test_both)\n",
    "y_pred_both = (y_pred_both > 0.5)\n",
    "\n",
    "# Making the Confusion Matrix\n",
    "cm = confusion_matrix(y_test_both, y_pred_both)\n",
    "print(classification_report(y_test_both, y_pred_both, target_names=['Non-seizure', 'Seizure']))\n",
    "\n",
    "df_cm = pd.DataFrame(cm, range(2), range(2))\n",
    "sn.heatmap(df_cm, annot=True,fmt='g',cmap ='Blues')# font size"
   ]
  },
  {
   "cell_type": "markdown",
   "metadata": {},
   "source": [
    "## Oversampling our seizure class\n",
    "\n",
    "As we saw in the beginning of this notebook, our classes are imbalanced.\n",
    "\n",
    "- 2300 seizure trials (20%)\n",
    "- 9200 non-seizure trials (80%)\n",
    "\n",
    "This could lead to a common problem in classification: the accuracy paradox.\n",
    "If our classifier chooses to go all in on the non-seizure class, it still achieves 80% accuracy!\n",
    "\n",
    "We dealt with this problem nicely by investigating other metrics of our classifier and our model seems to generalize well."
   ]
  },
  {
   "cell_type": "markdown",
   "metadata": {},
   "source": [
    "### SMOTE\n",
    "\n",
    "Other technique used to deal with imbalanced classes is oversampling. Let's investigate on our data."
   ]
  },
  {
   "cell_type": "code",
   "execution_count": 4,
   "metadata": {
    "collapsed": true
   },
   "outputs": [],
   "source": [
    "from imblearn.over_sampling import SMOTE\n",
    "X_s = dataset.iloc[:,1:179].values\n",
    "y_s = dataset.iloc[:,179].values"
   ]
  },
  {
   "cell_type": "code",
   "execution_count": 6,
   "metadata": {},
   "outputs": [
    {
     "data": {
      "text/plain": [
       "(14664, 178)"
      ]
     },
     "execution_count": 6,
     "metadata": {},
     "output_type": "execute_result"
    }
   ],
   "source": [
    "X_train_s, X_test_s, y_train_s, y_test_s = train_test_split(X_s, y_s,test_size = 0.2)\n",
    "sm = SMOTE(ratio = 1.0)\n",
    "X_train_res, y_train_res = sm.fit_sample(X_train_s, y_train_s)"
   ]
  },
  {
   "cell_type": "code",
   "execution_count": 9,
   "metadata": {},
   "outputs": [
    {
     "name": "stdout",
     "output_type": "stream",
     "text": [
      "Train on 14664 samples, validate on 2300 samples\n",
      "Epoch 1/100\n",
      "14664/14664 [==============================] - 4s 273us/step - loss: 0.2322 - acc: 0.9120 - val_loss: 0.1085 - val_acc: 0.9652\n",
      "Epoch 2/100\n",
      "14664/14664 [==============================] - 3s 218us/step - loss: 0.1915 - acc: 0.9277 - val_loss: 0.1058 - val_acc: 0.9626\n",
      "Epoch 3/100\n",
      "14664/14664 [==============================] - 3s 222us/step - loss: 0.1824 - acc: 0.9321 - val_loss: 0.0956 - val_acc: 0.9709\n",
      "Epoch 4/100\n",
      "14664/14664 [==============================] - 3s 227us/step - loss: 0.1799 - acc: 0.9331 - val_loss: 0.1159 - val_acc: 0.9587\n",
      "Epoch 5/100\n",
      "14664/14664 [==============================] - 3s 222us/step - loss: 0.1861 - acc: 0.9294 - val_loss: 0.0991 - val_acc: 0.9674\n",
      "Epoch 6/100\n",
      "14664/14664 [==============================] - 3s 224us/step - loss: 0.1775 - acc: 0.9334 - val_loss: 0.1076 - val_acc: 0.9643\n",
      "Epoch 7/100\n",
      "14664/14664 [==============================] - 3s 222us/step - loss: 0.1654 - acc: 0.9394 - val_loss: 0.0843 - val_acc: 0.9691\n",
      "Epoch 8/100\n",
      "14664/14664 [==============================] - 3s 223us/step - loss: 0.1649 - acc: 0.9367 - val_loss: 0.0918 - val_acc: 0.9635\n",
      "Epoch 9/100\n",
      "14664/14664 [==============================] - 3s 224us/step - loss: 0.1640 - acc: 0.9381 - val_loss: 0.0912 - val_acc: 0.9691\n",
      "Epoch 10/100\n",
      "14664/14664 [==============================] - 3s 230us/step - loss: 0.1652 - acc: 0.9365 - val_loss: 0.0876 - val_acc: 0.9674\n",
      "Epoch 11/100\n",
      "14664/14664 [==============================] - 3s 228us/step - loss: 0.1583 - acc: 0.9384 - val_loss: 0.0855 - val_acc: 0.9670\n",
      "Epoch 12/100\n",
      "14664/14664 [==============================] - 3s 223us/step - loss: 0.1633 - acc: 0.9356 - val_loss: 0.0909 - val_acc: 0.9661\n",
      "Epoch 13/100\n",
      "14664/14664 [==============================] - 3s 231us/step - loss: 0.1634 - acc: 0.9393 - val_loss: 0.0925 - val_acc: 0.9704\n",
      "Epoch 00013: early stopping\n",
      "             precision    recall  f1-score   support\n",
      "\n",
      "Non-seizure       0.99      0.97      0.98      1868\n",
      "    Seizure       0.89      0.97      0.92       432\n",
      "\n",
      "avg / total       0.97      0.97      0.97      2300\n",
      "\n"
     ]
    },
    {
     "data": {
      "text/plain": [
       "<matplotlib.axes._subplots.AxesSubplot at 0x7f61c8fb56d8>"
      ]
     },
     "execution_count": 9,
     "metadata": {},
     "output_type": "execute_result"
    },
    {
     "data": {
      "image/png": "[encoded data removed]",
      "text/plain": [
       "<matplotlib.figure.Figure at 0x7f61c8fb5d30>"
      ]
     },
     "metadata": {},
     "output_type": "display_data"
    }
   ],
   "source": [
    "early_stop = keras.callbacks.EarlyStopping(monitor='val_acc',\n",
    "                                           min_delta=0,\n",
    "                                           patience=10,\n",
    "                                           verbose=1,\n",
    "                                           mode='auto')\n",
    "# Initialising the ANN\n",
    "clf_ann = Sequential()\n",
    "\n",
    "# Adding the input layer and the first hidden layer\n",
    "clf_ann.add(Dense(activation=\"relu\",\n",
    "                  kernel_initializer=\"uniform\", \n",
    "                  units=100,\n",
    "                  input_dim=178))\n",
    "clf_ann.add(BatchNormalization())\n",
    "clf_ann.add(Dropout(0.5))\n",
    "# Adding the second hidden layer\n",
    "clf_ann.add(Dense(activation=\"relu\",\n",
    "                  kernel_initializer=\"uniform\",\n",
    "                  units=100))\n",
    "clf_ann.add(BatchNormalization())\n",
    "clf_ann.add(Dropout(0.5))\n",
    "# Adding the second hidden layer\n",
    "clf_ann.add(Dense(activation=\"relu\",\n",
    "                  kernel_initializer=\"uniform\",\n",
    "                  units=100))\n",
    "clf_ann.add(BatchNormalization())\n",
    "clf_ann.add(Dropout(0.5))\n",
    "# Adding the output layer\n",
    "clf_ann.add(Dense(units=1,\n",
    "                  kernel_initializer=\"uniform\",\n",
    "                  activation=\"sigmoid\"))\n",
    "\n",
    "# Compiling the ANN\n",
    "clf_ann.compile(optimizer = 'adam',\n",
    "                loss = 'binary_crossentropy',\n",
    "                metrics = ['accuracy'])\n",
    "# loss = 'categorical_crossentropy'\n",
    "# Fitting the ANN to the Training set\n",
    "clf_ann.fit(X_train_res, y_train_res,\n",
    "               batch_size = 32,\n",
    "               epochs = 100,\n",
    "               validation_data=(X_test_s,y_test_s),\n",
    "               callbacks=[early_stop])\n",
    "\n",
    "# Part 3 - Making the predictions and evaluating the model\n",
    "\n",
    "# Predicting the Test set results\n",
    "y_pred_s = clf_ann.predict(X_test_s)\n",
    "y_pred_s = (y_pred_s > 0.5)\n",
    "\n",
    "# Making the Confusion Matrix\n",
    "cm = confusion_matrix(y_test_s, y_pred_s)\n",
    "print(classification_report(y_test_s, y_pred_s, target_names=['Non-seizure', 'Seizure']))\n",
    "\n",
    "df_cm = pd.DataFrame(cm, range(2), range(2))\n",
    "sn.heatmap(df_cm, annot=True,fmt='g',cmap ='Blues')# font size"
   ]
  },
  {
   "cell_type": "markdown",
   "metadata": {},
   "source": [
    "# Predicting 5 classes\n",
    "\n",
    "Now, let's transform the problem in a 5 class classification, this time we wont transform our targets"
   ]
  },
  {
   "cell_type": "code",
   "execution_count": 81,
   "metadata": {},
   "outputs": [
    {
     "data": {
      "text/html": [
       "<div>\n",
       "<style>\n",
       "    .dataframe thead tr:only-child th {\n",
       "        text-align: right;\n",
       "    }\n",
       "\n",
       "    .dataframe thead th {\n",
       "        text-align: left;\n",
       "    }\n",
       "\n",
       "    .dataframe tbody tr th {\n",
       "        vertical-align: top;\n",
       "    }\n",
       "</style>\n",
       "<table border=\"1\" class=\"dataframe\">\n",
       "  <thead>\n",
       "    <tr style=\"text-align: right;\">\n",
       "      <th></th>\n",
       "      <th>Unnamed: 0</th>\n",
       "      <th>X1</th>\n",
       "      <th>X2</th>\n",
       "      <th>X3</th>\n",
       "      <th>X4</th>\n",
       "      <th>X5</th>\n",
       "      <th>X6</th>\n",
       "      <th>X7</th>\n",
       "      <th>X8</th>\n",
       "      <th>X9</th>\n",
       "      <th>...</th>\n",
       "      <th>X170</th>\n",
       "      <th>X171</th>\n",
       "      <th>X172</th>\n",
       "      <th>X173</th>\n",
       "      <th>X174</th>\n",
       "      <th>X175</th>\n",
       "      <th>X176</th>\n",
       "      <th>X177</th>\n",
       "      <th>X178</th>\n",
       "      <th>y</th>\n",
       "    </tr>\n",
       "  </thead>\n",
       "  <tbody>\n",
       "    <tr>\n",
       "      <th>0</th>\n",
       "      <td>X21.V1.791</td>\n",
       "      <td>135</td>\n",
       "      <td>190</td>\n",
       "      <td>229</td>\n",
       "      <td>223</td>\n",
       "      <td>192</td>\n",
       "      <td>125</td>\n",
       "      <td>55</td>\n",
       "      <td>-9</td>\n",
       "      <td>-33</td>\n",
       "      <td>...</td>\n",
       "      <td>-17</td>\n",
       "      <td>-15</td>\n",
       "      <td>-31</td>\n",
       "      <td>-77</td>\n",
       "      <td>-103</td>\n",
       "      <td>-127</td>\n",
       "      <td>-116</td>\n",
       "      <td>-83</td>\n",
       "      <td>-51</td>\n",
       "      <td>4</td>\n",
       "    </tr>\n",
       "    <tr>\n",
       "      <th>1</th>\n",
       "      <td>X15.V1.924</td>\n",
       "      <td>386</td>\n",
       "      <td>382</td>\n",
       "      <td>356</td>\n",
       "      <td>331</td>\n",
       "      <td>320</td>\n",
       "      <td>315</td>\n",
       "      <td>307</td>\n",
       "      <td>272</td>\n",
       "      <td>244</td>\n",
       "      <td>...</td>\n",
       "      <td>164</td>\n",
       "      <td>150</td>\n",
       "      <td>146</td>\n",
       "      <td>152</td>\n",
       "      <td>157</td>\n",
       "      <td>156</td>\n",
       "      <td>154</td>\n",
       "      <td>143</td>\n",
       "      <td>129</td>\n",
       "      <td>1</td>\n",
       "    </tr>\n",
       "    <tr>\n",
       "      <th>2</th>\n",
       "      <td>X8.V1.1</td>\n",
       "      <td>-32</td>\n",
       "      <td>-39</td>\n",
       "      <td>-47</td>\n",
       "      <td>-37</td>\n",
       "      <td>-32</td>\n",
       "      <td>-36</td>\n",
       "      <td>-57</td>\n",
       "      <td>-73</td>\n",
       "      <td>-85</td>\n",
       "      <td>...</td>\n",
       "      <td>57</td>\n",
       "      <td>64</td>\n",
       "      <td>48</td>\n",
       "      <td>19</td>\n",
       "      <td>-12</td>\n",
       "      <td>-30</td>\n",
       "      <td>-35</td>\n",
       "      <td>-35</td>\n",
       "      <td>-36</td>\n",
       "      <td>5</td>\n",
       "    </tr>\n",
       "    <tr>\n",
       "      <th>3</th>\n",
       "      <td>X16.V1.60</td>\n",
       "      <td>-105</td>\n",
       "      <td>-101</td>\n",
       "      <td>-96</td>\n",
       "      <td>-92</td>\n",
       "      <td>-89</td>\n",
       "      <td>-95</td>\n",
       "      <td>-102</td>\n",
       "      <td>-100</td>\n",
       "      <td>-87</td>\n",
       "      <td>...</td>\n",
       "      <td>-82</td>\n",
       "      <td>-81</td>\n",
       "      <td>-80</td>\n",
       "      <td>-77</td>\n",
       "      <td>-85</td>\n",
       "      <td>-77</td>\n",
       "      <td>-72</td>\n",
       "      <td>-69</td>\n",
       "      <td>-65</td>\n",
       "      <td>5</td>\n",
       "    </tr>\n",
       "    <tr>\n",
       "      <th>4</th>\n",
       "      <td>X20.V1.54</td>\n",
       "      <td>-9</td>\n",
       "      <td>-65</td>\n",
       "      <td>-98</td>\n",
       "      <td>-102</td>\n",
       "      <td>-78</td>\n",
       "      <td>-48</td>\n",
       "      <td>-16</td>\n",
       "      <td>0</td>\n",
       "      <td>-21</td>\n",
       "      <td>...</td>\n",
       "      <td>4</td>\n",
       "      <td>2</td>\n",
       "      <td>-12</td>\n",
       "      <td>-32</td>\n",
       "      <td>-41</td>\n",
       "      <td>-65</td>\n",
       "      <td>-83</td>\n",
       "      <td>-89</td>\n",
       "      <td>-73</td>\n",
       "      <td>5</td>\n",
       "    </tr>\n",
       "  </tbody>\n",
       "</table>\n",
       "<p>5 rows × 180 columns</p>\n",
       "</div>"
      ],
      "text/plain": [
       "   Unnamed: 0   X1   X2   X3   X4   X5   X6   X7   X8   X9 ...  X170  X171  \\\n",
       "0  X21.V1.791  135  190  229  223  192  125   55   -9  -33 ...   -17   -15   \n",
       "1  X15.V1.924  386  382  356  331  320  315  307  272  244 ...   164   150   \n",
       "2     X8.V1.1  -32  -39  -47  -37  -32  -36  -57  -73  -85 ...    57    64   \n",
       "3   X16.V1.60 -105 -101  -96  -92  -89  -95 -102 -100  -87 ...   -82   -81   \n",
       "4   X20.V1.54   -9  -65  -98 -102  -78  -48  -16    0  -21 ...     4     2   \n",
       "\n",
       "   X172  X173  X174  X175  X176  X177  X178  y  \n",
       "0   -31   -77  -103  -127  -116   -83   -51  4  \n",
       "1   146   152   157   156   154   143   129  1  \n",
       "2    48    19   -12   -30   -35   -35   -36  5  \n",
       "3   -80   -77   -85   -77   -72   -69   -65  5  \n",
       "4   -12   -32   -41   -65   -83   -89   -73  5  \n",
       "\n",
       "[5 rows x 180 columns]"
      ]
     },
     "execution_count": 81,
     "metadata": {},
     "output_type": "execute_result"
    }
   ],
   "source": [
    "dataset = pd.read_csv('epileptic_seizure_recognition.csv')\n",
    "dataset.head()"
   ]
  },
  {
   "cell_type": "code",
   "execution_count": 82,
   "metadata": {},
   "outputs": [
    {
     "data": {
      "text/plain": [
       "array([ 135,  190,  229,  223,  192,  125,   55,   -9,  -33,  -38,  -10,\n",
       "         35,   64,  113,  152,  164,  127,   50,  -47, -121, -138, -125,\n",
       "       -101,  -50,   11,   39,   24,   48,   64,   46])"
      ]
     },
     "execution_count": 82,
     "metadata": {},
     "output_type": "execute_result"
    }
   ],
   "source": [
    "X = dataset.iloc[:,1:179].values\n",
    "X[0,0:30]"
   ]
  },
  {
   "cell_type": "code",
   "execution_count": 83,
   "metadata": {},
   "outputs": [
    {
     "data": {
      "text/plain": [
       "array([4, 1, 5, 5, 5, 5, 4, 2, 1, 4, 5, 1, 3, 4, 2, 3, 2, 3, 4, 2, 1, 2,\n",
       "       1, 1, 1, 3, 5, 1, 2, 2])"
      ]
     },
     "execution_count": 83,
     "metadata": {},
     "output_type": "execute_result"
    }
   ],
   "source": [
    "y = dataset.iloc[:,179].values\n",
    "y[0:30]"
   ]
  },
  {
   "cell_type": "code",
   "execution_count": 84,
   "metadata": {},
   "outputs": [
    {
     "name": "stdout",
     "output_type": "stream",
     "text": [
      "2300 2300 2300 2300 2300\n"
     ]
    },
    {
     "data": {
      "image/png": "[encoded data removed]",
      "text/plain": [
       "<matplotlib.figure.Figure at 0x7f8542b229b0>"
      ]
     },
     "metadata": {},
     "output_type": "display_data"
    }
   ],
   "source": [
    "tgt = dataset.y\n",
    "ax = sn.countplot(tgt,label=\"Count\")\n",
    "a,b,c,d,e = tgt.value_counts()\n",
    "print(a,b,c,d,e)"
   ]
  },
  {
   "cell_type": "code",
   "execution_count": 85,
   "metadata": {
    "collapsed": true
   },
   "outputs": [],
   "source": [
    "X_train, X_test, y_train, y_test = train_test_split(X, y, test_size = 0.2)"
   ]
  },
  {
   "cell_type": "code",
   "execution_count": 86,
   "metadata": {
    "collapsed": true
   },
   "outputs": [],
   "source": [
    "sc = StandardScaler()\n",
    "X_train = sc.fit_transform(X_train)\n",
    "X_test = sc.transform(X_test)"
   ]
  },
  {
   "cell_type": "code",
   "execution_count": null,
   "metadata": {
    "collapsed": true
   },
   "outputs": [],
   "source": [
    "classifier = XGBClassifier()\n",
    "classifier.fit(X_train, y_train)"
   ]
  },
  {
   "cell_type": "code",
   "execution_count": null,
   "metadata": {
    "collapsed": true
   },
   "outputs": [],
   "source": [
    "y_pred = classifier.predict(X_test)\n",
    "\n",
    "accuracies = cross_val_score(estimator = classifier,\n",
    "                             X = X_train,\n",
    "                             y = y_train,\n",
    "                             cv = 10,\n",
    "                             n_jobs = -1)\n",
    "accuracies.mean()"
   ]
  },
  {
   "cell_type": "code",
   "execution_count": null,
   "metadata": {
    "collapsed": true
   },
   "outputs": [],
   "source": [
    "accuracies.std()"
   ]
  },
  {
   "cell_type": "code",
   "execution_count": null,
   "metadata": {
    "collapsed": true
   },
   "outputs": [],
   "source": [
    "cm = confusion_matrix(y_test, y_pred)\n",
    "\n",
    "print(classification_report(y_test, y_pred, target_names=['Seizure',\n",
    "                                                          'Tumor Area',\n",
    "                                                          'Healthy Area',\n",
    "                                                          'Eyes closed',\n",
    "                                                          'Eyes opened']))\n",
    "\n",
    "\n",
    "df_cm = pd.DataFrame(cm, range(5), range(5))\n",
    "sn.heatmap(df_cm, annot=True,fmt='g',cmap ='Blues')# font size"
   ]
  },
  {
   "cell_type": "code",
   "execution_count": 109,
   "metadata": {
    "collapsed": true
   },
   "outputs": [],
   "source": [
    "X = dataset.iloc[:,1:179].values\n",
    "y = dataset.iloc[:,179].values\n",
    "y = y-1"
   ]
  },
  {
   "cell_type": "code",
   "execution_count": 110,
   "metadata": {},
   "outputs": [
    {
     "data": {
      "text/plain": [
       "<11500x5 sparse matrix of type '<class 'numpy.float64'>'\n",
       "\twith 11500 stored elements in Compressed Sparse Row format>"
      ]
     },
     "execution_count": 110,
     "metadata": {},
     "output_type": "execute_result"
    }
   ],
   "source": [
    "import scipy.sparse\n",
    "indptr = range(len(y)+1)\n",
    "data = np.ones(len(y))\n",
    "y_ann = scipy.sparse.csr_matrix((data, y, indptr))"
   ]
  },
  {
   "cell_type": "code",
   "execution_count": 111,
   "metadata": {
    "collapsed": true
   },
   "outputs": [],
   "source": [
    "X_train, X_test, y_train, y_test = train_test_split(X, y_ann, test_size = 0.2)\n",
    "sc = StandardScaler()\n",
    "X_train = sc.fit_transform(X_train)\n",
    "X_test = sc.transform(X_test)"
   ]
  },
  {
   "cell_type": "code",
   "execution_count": 113,
   "metadata": {
    "collapsed": true
   },
   "outputs": [
    {
     "name": "stdout",
     "output_type": "stream",
     "text": [
      "Train on 9200 samples, validate on 2300 samples\n",
      "Epoch 1/100\n",
      "9200/9200 [==============================] - 6s 651us/step - loss: 1.2506 - acc: 0.4320 - val_loss: 1.0878 - val_acc: 0.5591\n",
      "Epoch 2/100\n",
      "9200/9200 [==============================] - 2s 256us/step - loss: 1.1119 - acc: 0.5003 - val_loss: 1.0065 - val_acc: 0.5861\n",
      "Epoch 3/100\n",
      "9200/9200 [==============================] - 2s 267us/step - loss: 1.0497 - acc: 0.5270 - val_loss: 0.9494 - val_acc: 0.6087\n",
      "Epoch 4/100\n",
      "9200/9200 [==============================] - 2s 269us/step - loss: 1.0104 - acc: 0.5400 - val_loss: 0.9431 - val_acc: 0.5835\n",
      "Epoch 5/100\n",
      "9200/9200 [==============================] - 2s 272us/step - loss: 0.9941 - acc: 0.5496 - val_loss: 0.9064 - val_acc: 0.6217\n",
      "Epoch 6/100\n",
      "9200/9200 [==============================] - 3s 276us/step - loss: 0.9733 - acc: 0.5566 - val_loss: 0.9376 - val_acc: 0.5761\n",
      "Epoch 7/100\n",
      "9200/9200 [==============================] - 2s 272us/step - loss: 0.9631 - acc: 0.5649 - val_loss: 0.9010 - val_acc: 0.6013\n",
      "Epoch 8/100\n",
      "9200/9200 [==============================] - 3s 272us/step - loss: 0.9485 - acc: 0.5705 - val_loss: 0.9477 - val_acc: 0.5700\n",
      "Epoch 9/100\n",
      "9200/9200 [==============================] - 3s 289us/step - loss: 0.9355 - acc: 0.5771 - val_loss: 0.9254 - val_acc: 0.5904\n",
      "Epoch 10/100\n",
      "9200/9200 [==============================] - 3s 284us/step - loss: 0.9357 - acc: 0.5773 - val_loss: 0.9590 - val_acc: 0.5648\n",
      "Epoch 11/100\n",
      "9200/9200 [==============================] - 3s 293us/step - loss: 0.9333 - acc: 0.5724 - val_loss: 0.9294 - val_acc: 0.5683\n",
      "Epoch 12/100\n",
      "9200/9200 [==============================] - 2s 268us/step - loss: 0.9300 - acc: 0.5702 - val_loss: 0.9379 - val_acc: 0.5804\n",
      "Epoch 13/100\n",
      "9200/9200 [==============================] - 3s 286us/step - loss: 0.9079 - acc: 0.5808 - val_loss: 0.9125 - val_acc: 0.5865\n",
      "Epoch 14/100\n",
      "9200/9200 [==============================] - 3s 273us/step - loss: 0.9106 - acc: 0.5837 - val_loss: 0.9675 - val_acc: 0.5761\n",
      "Epoch 15/100\n",
      "9200/9200 [==============================] - 3s 284us/step - loss: 0.8987 - acc: 0.5821 - val_loss: 0.9126 - val_acc: 0.5917\n",
      "Epoch 00015: early stopping\n",
      "              precision    recall  f1-score   support\n",
      "\n",
      "     Seizure       0.96      0.84      0.89       482\n",
      "  Tumor Area       1.00      0.01      0.02       460\n",
      "Healthy Area       0.00      0.00      0.00       458\n",
      " Eyes closed       0.88      0.63      0.73       446\n",
      " Eyes opened       0.75      0.02      0.04       454\n",
      "\n",
      " avg / total       0.72      0.30      0.34      2300\n",
      "\n"
     ]
    },
    {
     "data": {
      "text/plain": [
       "<matplotlib.axes._subplots.AxesSubplot at 0x7f853a8950b8>"
      ]
     },
     "execution_count": 113,
     "metadata": {},
     "output_type": "execute_result"
    },
    {
     "data": {
      "image/png": "[encoded data removed]",
      "text/plain": [
       "<matplotlib.figure.Figure at 0x7f853a8957f0>"
      ]
     },
     "metadata": {},
     "output_type": "display_data"
    }
   ],
   "source": [
    "early_stop = keras.callbacks.EarlyStopping(monitor='val_acc',\n",
    "                                           min_delta=0,\n",
    "                                           patience=10,\n",
    "                                           verbose=1,\n",
    "                                           mode='auto')\n",
    "# Initialising the ANN\n",
    "clf_ann3 = Sequential()\n",
    "\n",
    "# Adding the input layer and the first hidden layer\n",
    "clf_ann3.add(Dense(activation=\"relu\",\n",
    "                  kernel_initializer=\"uniform\", \n",
    "                  units=100,\n",
    "                  input_dim=178))\n",
    "clf_ann3.add(BatchNormalization())\n",
    "clf_ann3.add(Dropout(0.5))\n",
    "# Adding the second hidden layer\n",
    "clf_ann3.add(Dense(activation=\"relu\",\n",
    "                  kernel_initializer=\"uniform\",\n",
    "                  units=100))\n",
    "clf_ann3.add(BatchNormalization())\n",
    "clf_ann3.add(Dropout(0.5))\n",
    "\n",
    "# Adding the output layer\n",
    "clf_ann3.add(Dense(units=5,\n",
    "                  kernel_initializer=\"uniform\",\n",
    "                  activation=\"softmax\"))\n",
    "\n",
    "# Compiling the ANN\n",
    "clf_ann3.compile(optimizer = 'adam',\n",
    "                loss = 'categorical_crossentropy',\n",
    "                metrics = ['accuracy'])\n",
    "# loss = 'categorical_crossentropy'\n",
    "# Fitting the ANN to the Training set\n",
    "clf_ann3.fit(X_train, \n",
    "            y_train,\n",
    "            batch_size = 32,\n",
    "            epochs = 100,\n",
    "            validation_data=(X_test,y_test),\n",
    "            callbacks=[early_stop])\n",
    "\n",
    "# Part 3 - Making the predictions and evaluating the model\n",
    "\n",
    "# Predicting the Test set results\n",
    "y_pred = clf_ann3.predict(X_test)\n",
    "y_pred = (y_pred > 0.5)\n",
    "\n",
    "# Making the Confusion Matrix\n",
    "cm = confusion_matrix(y_test.argmax(axis=1), y_pred.argmax(axis=1))\n",
    "print(classification_report(y_test, y_pred, target_names=['Seizure',\n",
    "                                                          'Tumor Area',\n",
    "                                                          'Healthy Area',\n",
    "                                                          'Eyes closed',\n",
    "                                                          'Eyes opened']))\n",
    "\n",
    "\n",
    "df_cm = pd.DataFrame(cm, range(5), range(5))\n",
    "sn.heatmap(df_cm, annot=True,fmt='g',cmap ='Blues')# font size"
   ]
  }
 ],
 "metadata": {
  "kernelspec": {
   "display_name": "Python 3",
   "language": "python",
   "name": "python3"
  },
  "language_info": {
   "codemirror_mode": {
    "name": "ipython",
    "version": 3
   },
   "file_extension": ".py",
   "mimetype": "text/x-python",
   "name": "python",
   "nbconvert_exporter": "python",
   "pygments_lexer": "ipython3",
   "version": "3.6.5"
  }
 },
 "nbformat": 4,
 "nbformat_minor": 2
}
